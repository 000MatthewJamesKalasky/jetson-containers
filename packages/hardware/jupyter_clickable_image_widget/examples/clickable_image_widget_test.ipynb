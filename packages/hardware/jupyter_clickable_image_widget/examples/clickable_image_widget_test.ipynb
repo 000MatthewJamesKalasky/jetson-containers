{
 "cells": [
  {
   "cell_type": "code",
   "execution_count": null,
   "id": "b4d6090b-1ef9-4c30-b544-276592bf35bc",
   "metadata": {},
   "outputs": [],
   "source": [
    "from jupyter_clickable_image_widget import ClickableImageWidget"
   ]
  },
  {
   "cell_type": "code",
   "execution_count": null,
   "id": "1e4f45cd-cad5-4664-917d-ed62a8457be0",
   "metadata": {},
   "outputs": [],
   "source": [
    "image_widget = ClickableImageWidget()"
   ]
  },
  {
   "cell_type": "code",
   "execution_count": null,
   "id": "83fe8e6e-6911-46a8-a643-1e99b75e1fdc",
   "metadata": {},
   "outputs": [],
   "source": [
    "def on_message(_, content, ignore):\n",
    "    if content['event'] == 'click':\n",
    "        data = content['eventData']\n",
    "        alt_key = data['altKey']\n",
    "        ctrl_key = data['ctrlKey']\n",
    "        shift_key = data['shiftKey']\n",
    "        x = data['offsetX']\n",
    "        y = data['offsetY']"
   ]
  },
  {
   "cell_type": "code",
   "execution_count": null,
   "id": "c9516c25-0785-44ae-832f-4c658136b398",
   "metadata": {},
   "outputs": [],
   "source": [
    "image_widget.on_msg(on_message)"
   ]
  },
  {
   "cell_type": "code",
   "execution_count": null,
   "id": "7f4ac649-5c60-4e29-8cde-34a269c88489",
   "metadata": {},
   "outputs": [],
   "source": [
    "file = open(\"JetsonOrin-DevKit-Back_1024x768.jpg\", \"rb\")"
   ]
  },
  {
   "cell_type": "code",
   "execution_count": null,
   "id": "4247ae28-eb52-49e8-8ba3-989cb519f1c3",
   "metadata": {},
   "outputs": [],
   "source": [
    "image = file.read()"
   ]
  },
  {
   "cell_type": "code",
   "execution_count": null,
   "id": "f453d1aa-af08-4d7d-ab4b-6854467e77e1",
   "metadata": {},
   "outputs": [],
   "source": [
    "image_widget.value = image"
   ]
  },
  {
   "cell_type": "code",
   "execution_count": null,
   "id": "306a81c0-6719-4388-bbb2-7164380c24ea",
   "metadata": {},
   "outputs": [],
   "source": [
    "display(image_widget)"
   ]
  }
 ],
 "metadata": {
  "kernelspec": {
   "display_name": "Python 3 (ipykernel)",
   "language": "python",
   "name": "python3"
  },
  "language_info": {
   "codemirror_mode": {
    "name": "ipython",
    "version": 3
   },
   "file_extension": ".py",
   "mimetype": "text/x-python",
   "name": "python",
   "nbconvert_exporter": "python",
   "pygments_lexer": "ipython3",
   "version": "3.10.12"
  }
 },
 "nbformat": 4,
 "nbformat_minor": 5
}
